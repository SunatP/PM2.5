{
 "cells": [
  {
   "cell_type": "code",
   "execution_count": 3,
   "metadata": {},
   "outputs": [
    {
     "name": "stderr",
     "output_type": "stream",
     "text": [
      "  0%|                                                                                          | 0/669 [00:01<?, ?it/s]\n"
     ]
    },
    {
     "ename": "KeyError",
     "evalue": "'history'",
     "output_type": "error",
     "traceback": [
      "\u001b[1;31m---------------------------------------------------------------------------\u001b[0m",
      "\u001b[1;31mKeyError\u001b[0m                                  Traceback (most recent call last)",
      "\u001b[1;32m<ipython-input-3-1282059acf6d>\u001b[0m in \u001b[0;36m<module>\u001b[1;34m\u001b[0m\n\u001b[0;32m     41\u001b[0m     \u001b[0mreq\u001b[0m \u001b[1;33m=\u001b[0m \u001b[0mrequests\u001b[0m\u001b[1;33m.\u001b[0m\u001b[0mget\u001b[0m\u001b[1;33m(\u001b[0m\u001b[0murl_test\u001b[0m\u001b[1;33m)\u001b[0m\u001b[1;33m\u001b[0m\u001b[1;33m\u001b[0m\u001b[0m\n\u001b[0;32m     42\u001b[0m     \u001b[0mjs\u001b[0m \u001b[1;33m=\u001b[0m \u001b[0mjson\u001b[0m\u001b[1;33m.\u001b[0m\u001b[0mloads\u001b[0m\u001b[1;33m(\u001b[0m\u001b[0mreq\u001b[0m\u001b[1;33m.\u001b[0m\u001b[0mtext\u001b[0m\u001b[1;33m)\u001b[0m\u001b[1;33m\u001b[0m\u001b[1;33m\u001b[0m\u001b[0m\n\u001b[1;32m---> 43\u001b[1;33m     \u001b[1;32mif\u001b[0m \u001b[0mjs\u001b[0m\u001b[1;33m[\u001b[0m\u001b[1;34m'history'\u001b[0m\u001b[1;33m]\u001b[0m\u001b[1;33m[\u001b[0m\u001b[1;34m'days'\u001b[0m\u001b[1;33m]\u001b[0m \u001b[1;33m==\u001b[0m \u001b[1;33m[\u001b[0m\u001b[1;33m]\u001b[0m\u001b[1;33m:\u001b[0m\u001b[1;33m\u001b[0m\u001b[1;33m\u001b[0m\u001b[0m\n\u001b[0m\u001b[0;32m     44\u001b[0m         \u001b[0mprint\u001b[0m\u001b[1;33m(\u001b[0m\u001b[1;34m\"empty data on\"\u001b[0m\u001b[1;33m,\u001b[0m\u001b[0mymd\u001b[0m\u001b[1;33m)\u001b[0m\u001b[1;33m\u001b[0m\u001b[1;33m\u001b[0m\u001b[0m\n\u001b[0;32m     45\u001b[0m         \u001b[1;32mcontinue\u001b[0m\u001b[1;33m\u001b[0m\u001b[1;33m\u001b[0m\u001b[0m\n",
      "\u001b[1;31mKeyError\u001b[0m: 'history'"
     ]
    }
   ],
   "source": [
    "import requests\n",
    "from requests.adapters import HTTPAdapter\n",
    "from requests.packages.urllib3.util.retry import Retry\n",
    "import json\n",
    "import pandas as pd\n",
    "from datetime import timedelta, date\n",
    "from tqdm import tqdm\n",
    "\n",
    "start_date = date(2018, 1, 1)\n",
    "end_date = date(2019, 11, 1)\n",
    "\n",
    "def requests_retry_session(\n",
    "    retries=3,\n",
    "    backoff_factor=0.3,\n",
    "    status_forcelist=(500, 502, 504),\n",
    "    session=None,\n",
    "):\n",
    "    session = session or requests.Session()\n",
    "    retry = Retry(\n",
    "        total=retries,\n",
    "        read=retries,\n",
    "        connect=retries,\n",
    "        backoff_factor=backoff_factor,\n",
    "        status_forcelist=status_forcelist,\n",
    "    )\n",
    "    adapter = HTTPAdapter(max_retries=retry)\n",
    "    session.mount('http://', adapter)\n",
    "    session.mount('https://', adapter)\n",
    "    return session\n",
    "\n",
    "def daterange(start_date, end_date):\n",
    "    for n in tqdm(range(int ((end_date - start_date).days))):\n",
    "        yield start_date + timedelta(n)\n",
    "\n",
    "write_header = 1\n",
    "write_header_file = 1 # change to 0 to continue without writing header to csv\n",
    "for single_date in daterange(start_date, end_date):\n",
    "    df_daily = pd.DataFrame()\n",
    "    ymd = single_date.strftime(\"%Y%m%d\")\n",
    "    url_test = \"https://api-ak.wunderground.com/api/91b595b129984cc5b595b12998bcc57f/history_\"+ymd+\"null/units:metric/v:2.0/q/pws:IAMPHOEB4.json\"\n",
    "    req = requests.get(url_test)\n",
    "    js = json.loads(req.text)\n",
    "    if js['history']['days'] == []:\n",
    "        print(\"empty data on\",ymd)\n",
    "        continue\n",
    "    for ob in js['history']['days'][0]['observations']:\n",
    "        ob['date'] = ob['date']['iso8601']\n",
    "        df_row = pd.DataFrame(ob, index=[0]) \n",
    "        df_row.index = df_row['date']\n",
    "        df_row = df_row.drop(columns=['date'])\n",
    "        if write_header == 1:\n",
    "            df_daily = df_row\n",
    "            write_header = 0\n",
    "        else:\n",
    "            df_daily = df_daily.append(df_row)\n",
    "\n",
    "    with open('salaya_weather.csv','a+') as fd:\n",
    "        fd.write(df_daily.to_csv(header=write_header_file))\n",
    "        write_header_file = 0"
   ]
  },
  {
   "cell_type": "code",
   "execution_count": null,
   "metadata": {},
   "outputs": [],
   "source": []
  }
 ],
 "metadata": {
  "kernelspec": {
   "display_name": "Python 3",
   "language": "python",
   "name": "python3"
  },
  "language_info": {
   "codemirror_mode": {
    "name": "ipython",
    "version": 3
   },
   "file_extension": ".py",
   "mimetype": "text/x-python",
   "name": "python",
   "nbconvert_exporter": "python",
   "pygments_lexer": "ipython3",
   "version": "3.7.3"
  }
 },
 "nbformat": 4,
 "nbformat_minor": 2
}
